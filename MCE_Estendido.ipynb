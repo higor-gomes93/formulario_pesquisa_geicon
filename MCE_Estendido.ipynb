{
  "nbformat": 4,
  "nbformat_minor": 0,
  "metadata": {
    "colab": {
      "name": "MCE_Estendido.ipynb",
      "provenance": [],
      "collapsed_sections": [],
      "include_colab_link": true
    },
    "kernelspec": {
      "name": "python3",
      "display_name": "Python 3"
    },
    "language_info": {
      "name": "python"
    }
  },
  "cells": [
    {
      "cell_type": "markdown",
      "metadata": {
        "id": "view-in-github",
        "colab_type": "text"
      },
      "source": [
        "<a href=\"https://colab.research.google.com/github/higor-gomes93/mce_pesquisa_geicon/blob/main/MCE_Estendido.ipynb\" target=\"_parent\"><img src=\"https://colab.research.google.com/assets/colab-badge.svg\" alt=\"Open In Colab\"/></a>"
      ]
    },
    {
      "cell_type": "markdown",
      "metadata": {
        "id": "xlwwNFwmN8-7"
      },
      "source": [
        "# Algoritmo de Geração de Mapas Conceituas Estendidos\n",
        "---\n",
        "Esse algoritmo tem por função a criação automática de Mapas Conceituas Estendidos, partindo de uma base de dados importada do Google Planilhas. Os dados foram obtidos por meio do formulário aplicado aos respondentes."
      ]
    },
    {
      "cell_type": "markdown",
      "metadata": {
        "id": "qwf-Q5HiOTuw"
      },
      "source": [
        "### 1) Importação das Bibliotecas\n",
        "Todos as bibliotecas e pacotes necessários para o desenvolvimento do algoritmo."
      ]
    },
    {
      "cell_type": "code",
      "metadata": {
        "id": "020jcdlEySfJ"
      },
      "source": [
        "# Importando as bibliotecas padrão\n",
        "import networkx as nx\n",
        "import pandas as pd\n",
        "import numpy as np\n",
        "import matplotlib.pyplot as plt\n",
        "import random as rd"
      ],
      "execution_count": 129,
      "outputs": []
    },
    {
      "cell_type": "code",
      "metadata": {
        "colab": {
          "base_uri": "https://localhost:8080/"
        },
        "id": "J9UV9MTwe1z6",
        "outputId": "4c145413-b7d8-437c-e658-c1d5d64da0a9"
      },
      "source": [
        "# Importando os pacotes necessários para conectar com o Google Drive e o Google Planilhas\n",
        "from google.colab import auth\n",
        "auth.authenticate_user()\n",
        "\n",
        "import gspread\n",
        "from oauth2client.client import GoogleCredentials\n",
        "\n",
        "from google.colab import drive\n",
        "drive.mount('/content/drive')"
      ],
      "execution_count": 130,
      "outputs": [
        {
          "output_type": "stream",
          "text": [
            "Drive already mounted at /content/drive; to attempt to forcibly remount, call drive.mount(\"/content/drive\", force_remount=True).\n"
          ],
          "name": "stdout"
        }
      ]
    },
    {
      "cell_type": "markdown",
      "metadata": {
        "id": "lpOikumsOXLy"
      },
      "source": [
        "### 2) Geração da Base de Dados\n",
        "Os dados são importados diretamente do Google Planilhas e convertidos em um DataFrame."
      ]
    },
    {
      "cell_type": "code",
      "metadata": {
        "id": "1fRgF-n4v31q"
      },
      "source": [
        "# Importando os dados do Google Planilhas\n",
        "gc = gspread.authorize(GoogleCredentials.get_application_default())\n",
        "planilha_de_dados = gc.open('[Formulários] Base de Dados Bruta').sheet1\n",
        "rows = planilha_de_dados.get_all_values()"
      ],
      "execution_count": 131,
      "outputs": []
    },
    {
      "cell_type": "code",
      "metadata": {
        "id": "sEXnRXD8wQE4"
      },
      "source": [
        "# Criação do objeto do tipo DataFrame\n",
        "dataset = pd.DataFrame.from_records(rows)\n",
        "\n",
        "# Transformando a primeira linha em cabeçalho\n",
        "new_header = dataset.iloc[0]\n",
        "dataset = dataset[1:]\n",
        "dataset.columns = new_header\n",
        "\n",
        "# Resetando o index\n",
        "dataset = dataset.reset_index(drop = True)\n",
        "\n",
        "# Transformando os dados nulos\n",
        "dataset['Conceito Causa'].replace('', np.nan, inplace=True)\n",
        "dataset['Conceito Efeito'].replace('', np.nan, inplace=True)\n",
        "dataset['Linha CC'].replace('', np.nan, inplace=True)\n",
        "dataset['Coluna CC'].replace('', np.nan, inplace=True)\n",
        "dataset['Linha CE'].replace('', np.nan, inplace=True)\n",
        "dataset['Coluna CE'].replace('', np.nan, inplace=True)"
      ],
      "execution_count": 132,
      "outputs": []
    },
    {
      "cell_type": "markdown",
      "metadata": {
        "id": "Q31DfTPaOe5e"
      },
      "source": [
        "### 3) Tratamento dos Dados\n",
        "Filtrar dados faltantes ou fora do padrão esperado para análise."
      ]
    },
    {
      "cell_type": "code",
      "metadata": {
        "id": "rtIBXrdayNV5"
      },
      "source": [
        "# Contando o total de respostas por aluno\n",
        "valores_unicos = dataset.groupby(['Nome']).count()"
      ],
      "execution_count": 133,
      "outputs": []
    },
    {
      "cell_type": "code",
      "metadata": {
        "id": "4p8GhZwU0KRN"
      },
      "source": [
        "# Selecionando apenas os que tiveram 5 respostas em todas as colunas\n",
        "nomes_filtrados = valores_unicos.loc[(valores_unicos['Conceito Causa'] == 5) & \n",
        "                           (valores_unicos['Conceito Efeito'] == 5) &\n",
        "                           (valores_unicos['Linha CC'] == 5) &\n",
        "                           (valores_unicos['Coluna CC'] == 5) &\n",
        "                           (valores_unicos['Linha CE'] == 5) &\n",
        "                           (valores_unicos['Coluna CE'] == 5)]\n",
        "\n",
        "nomes = list(nomes_filtrados.index)"
      ],
      "execution_count": 134,
      "outputs": []
    },
    {
      "cell_type": "code",
      "metadata": {
        "id": "qmvjspdV1msW"
      },
      "source": [
        "# Filtrando o dataset\n",
        "dataset = dataset.loc[dataset['Nome'].isin(nomes)]\n",
        "dataset = dataset.reset_index(drop = True)\n",
        "dataset_coordenadas = dataset.copy()\n",
        "dataset_geral = dataset.copy()"
      ],
      "execution_count": 135,
      "outputs": []
    },
    {
      "cell_type": "code",
      "metadata": {
        "id": "Gt0bsz2fkDl3"
      },
      "source": [
        "# Tratando as strings\n",
        "conceito_causa = list(dataset['Conceito Causa'])\n",
        "conceito_causa = [i.strip().split(\" \") for i in conceito_causa]\n",
        "conceito_causa = [\"\\n\".join(i) for i in conceito_causa]\n",
        "\n",
        "conceito_efeito = list(dataset['Conceito Efeito'])\n",
        "conceito_efeito = [i.strip().split(\" \") for i in conceito_efeito]\n",
        "conceito_efeito = [\"\\n\".join(i) for i in conceito_efeito]\n",
        "\n",
        "dataset['Conceito Causa'] = conceito_causa\n",
        "dataset['Conceito Efeito'] = conceito_efeito"
      ],
      "execution_count": 136,
      "outputs": []
    },
    {
      "cell_type": "markdown",
      "metadata": {
        "id": "kWhyFGJYPIGF"
      },
      "source": [
        "### 4) Criação dos Dicionários\n",
        "Conversão dos atributos de linha e coluna em coordenadas cartesianas, a fim de usar o pano de fundo gerado previamente para o Mapa Conceitual Estendido."
      ]
    },
    {
      "cell_type": "code",
      "metadata": {
        "id": "SkrJx3YG6-p2"
      },
      "source": [
        "# Criando os dicionários de correspondências das coordenadas para a imagem png\n",
        "dicionario_linha_png = {\n",
        "    'Controlável': (0, 300),\n",
        "    'Penumbra': (300, 599),\n",
        "    'Não Controlável': (599, 899)\n",
        "}\n",
        "\n",
        "dicionario_coluna_png = {\n",
        "    'Não Controlável': (0, 600),\n",
        "    'Penumbra': (600, 1199),\n",
        "    'Controlável': (1199, 1799)\n",
        "}\n",
        "\n",
        "# Definindo uma margem\n",
        "margem = 20"
      ],
      "execution_count": 137,
      "outputs": []
    },
    {
      "cell_type": "markdown",
      "metadata": {
        "id": "iz9wBl4JuPzh"
      },
      "source": [
        "### 5) Imagem de Fundo\n",
        "Carregando o pano de fundo para a construção do Mapa Conceitual Estendido."
      ]
    },
    {
      "cell_type": "code",
      "metadata": {
        "colab": {
          "base_uri": "https://localhost:8080/",
          "height": 51
        },
        "id": "3ruwbbnIuVay",
        "outputId": "6ea484a2-6e69-4ace-d6cb-256c50cd1d6d"
      },
      "source": [
        "fundo = plt.imread('/content/drive/Shareddrives/GEICon - Pessoas/Ferramentas/[Ferramentas] Formulário Tipos Psicológicos/[Ferramentas] Base de Dados/MCE.png')\n",
        "plt.figure(figsize=(19.260416667, 9.8854166667))"
      ],
      "execution_count": 138,
      "outputs": [
        {
          "output_type": "execute_result",
          "data": {
            "text/plain": [
              "<Figure size 1386.75x711.75 with 0 Axes>"
            ]
          },
          "metadata": {
            "tags": []
          },
          "execution_count": 138
        },
        {
          "output_type": "display_data",
          "data": {
            "text/plain": [
              "<Figure size 1386.75x711.75 with 0 Axes>"
            ]
          },
          "metadata": {
            "tags": []
          }
        }
      ]
    },
    {
      "cell_type": "markdown",
      "metadata": {
        "id": "i0cKJaGrPU_p"
      },
      "source": [
        "### 6) Função de Geração dos Mapas Conceituais Estendidos\n",
        "Função principal do algoritmo, cujo objetivo é criar um mapa conceitual estendido para cada um dos respondentes, e armazená-los em um diretório pré-estabelecido do Google Drive."
      ]
    },
    {
      "cell_type": "code",
      "metadata": {
        "id": "5973Y9P69HtV"
      },
      "source": [
        "def criacao_mce(aluno):\n",
        "    # Filtrando o dataset\n",
        "    dataset_aluno = dataset.loc[dataset['Nome'] == aluno]\n",
        "    \n",
        "    # Separando conceito causa e conceito efeito\n",
        "    lista_conceito_causa_aluno = list(dataset_aluno['Conceito Causa'])\n",
        "    posicao_conceito_causa_aluno = dataset_aluno[['Coluna CC', 'Linha CC']]\n",
        "    lista_posicao_conceito_causa_aluno = [tuple(x) for x in posicao_conceito_causa_aluno.to_numpy()]\n",
        "    lista_conceito_efeito_aluno = list(dataset_aluno['Conceito Efeito'])\n",
        "    posicao_conceito_efeito_aluno = dataset_aluno[['Coluna CE', 'Linha CE']]\n",
        "    lista_posicao_conceito_efeito_aluno = [tuple(x) for x in posicao_conceito_efeito_aluno.to_numpy()]\n",
        "\n",
        "    # Criação das coordenadas\n",
        "    lista_coordenadas_conceito_causa_aluno = [(rd.randint(dicionario_coluna_png[i[0]][0]+margem, dicionario_coluna_png[i[0]][1]-margem), \n",
        "                                               rd.randint(dicionario_linha_png[i[1]][0]+margem, dicionario_linha_png[i[1]][1]-margem)) for i in lista_posicao_conceito_causa_aluno]\n",
        "    lista_coordenadas_conceito_efeito_aluno = [(rd.randint(dicionario_coluna_png[i[0]][0]+margem, dicionario_coluna_png[i[0]][1]-margem), \n",
        "                                               rd.randint(dicionario_linha_png[i[1]][0]+margem, dicionario_linha_png[i[1]][1]-margem)) for i in lista_posicao_conceito_efeito_aluno]\n",
        "    \n",
        "    # Criando os vértices e arestas do grafo\n",
        "    vertices_aluno = lista_conceito_causa_aluno\n",
        "    vertices_aluno.extend(lista_conceito_efeito_aluno)\n",
        "    arestas_aluno = [(lista_conceito_causa_aluno[i], lista_conceito_efeito_aluno[i]) for i in range(5)]\n",
        "    \n",
        "    # Criando o vetor de posições\n",
        "    posicoes_conceito_causa = {lista_conceito_causa_aluno[i]: lista_coordenadas_conceito_causa_aluno[i] for i in range(5)}\n",
        "    posicoes_conceito_efeito = {lista_conceito_efeito_aluno[i]: lista_coordenadas_conceito_efeito_aluno[i] for i in range(5)}\n",
        "    posicoes = posicoes_conceito_causa\n",
        "    posicoes.update(posicoes_conceito_efeito)\n",
        "\n",
        "    # Inicializando um grafo direcionado\n",
        "    grafo = nx.DiGraph()\n",
        "\n",
        "    # Adicionando os vértices e arestas\n",
        "    grafo.add_nodes_from(vertices_aluno)\n",
        "    grafo.add_edges_from(arestas_aluno)\n",
        "\n",
        "    # Gerando o grafo\n",
        "    plt.figure(figsize=(19.260416667, 9.8854166667))\n",
        "    plot = nx.draw_networkx_nodes(grafo, posicoes, node_shape='o', node_color = 'white', node_size = 300)\n",
        "    plot = nx.draw_networkx_edges(grafo, posicoes, edgelist = arestas_aluno)\n",
        "    lot = nx.draw_networkx_labels(grafo, posicoes, horizontalalignment='center', verticalalignment='top')\n",
        "    plt.imshow(fundo, aspect='auto')\n",
        "    plt.savefig('/content/drive/Shareddrives/GEICon - Pessoas/Ferramentas/[Ferramentas] Formulário Tipos Psicológicos/[Ferramentas] Base de Dados/[Ferramentas] Mapas Conceituais/'+aluno+'.png', bbox_inches = 'tight', pad_inches = 0)\n",
        "    plt.close()\n",
        "    \n",
        "\n",
        "    return"
      ],
      "execution_count": 139,
      "outputs": []
    },
    {
      "cell_type": "markdown",
      "metadata": {
        "id": "MDdFbtVBPkx6"
      },
      "source": [
        "### 7) Chamada da Função\n",
        "Aplicar a função de criação dos Mapas Conceituais Estendidos para toda a lista dos respondentes."
      ]
    },
    {
      "cell_type": "code",
      "metadata": {
        "id": "8DKR3B3tFSut",
        "colab": {
          "base_uri": "https://localhost:8080/",
          "height": 35
        },
        "outputId": "9a316278-7f2f-418c-e176-3e952cd5e44d"
      },
      "source": [
        "'''\n",
        "for i in nomes:\n",
        "    criacao_mce(i)\n",
        "'''"
      ],
      "execution_count": 140,
      "outputs": [
        {
          "output_type": "execute_result",
          "data": {
            "application/vnd.google.colaboratory.intrinsic+json": {
              "type": "string"
            },
            "text/plain": [
              "'\\nfor i in nomes:\\n    criacao_mce(i)\\n'"
            ]
          },
          "metadata": {
            "tags": []
          },
          "execution_count": 140
        }
      ]
    },
    {
      "cell_type": "markdown",
      "metadata": {
        "id": "4qmGM4w10pLB"
      },
      "source": [
        "### 8) Criação dos Dicionários HTML\n",
        "Conversão dos atributos de linha e coluna em coordenadas cartesianas, a fim de usar o pano de fundo gerado previamente para o Mapa Conceitual Estendido no formato HTML, gerado no Google Sheets."
      ]
    },
    {
      "cell_type": "code",
      "metadata": {
        "id": "LpTcOVsx0oos"
      },
      "source": [
        "# Criando os dicionários de correspondências das coordenadas para a imagem png\n",
        "dicionario_linha_html = {\n",
        "    'Controlável': (0, 210),\n",
        "    'Penumbra': (210, 419),\n",
        "    'Não Controlável': (419, 629)\n",
        "}\n",
        "\n",
        "dicionario_coluna_html = {\n",
        "    'Não Controlável': (0, 420),\n",
        "    'Penumbra': (420, 840),\n",
        "    'Controlável': (840, 1260)\n",
        "}\n",
        "\n",
        "# Definindo uma margem\n",
        "margem = 20"
      ],
      "execution_count": 141,
      "outputs": []
    },
    {
      "cell_type": "markdown",
      "metadata": {
        "id": "Kgggecun1ZWW"
      },
      "source": [
        "### 9) Criação dos DataFrame Convertido\n",
        "Substituição dos atributos categóricos das linhas e colunas por coordenadas."
      ]
    },
    {
      "cell_type": "code",
      "metadata": {
        "colab": {
          "base_uri": "https://localhost:8080/",
          "height": 419
        },
        "id": "Ic3-h_II1rKY",
        "outputId": "08a220f8-d096-47c2-f517-e1e51a5722b4"
      },
      "source": [
        "# Extraindo as listas das posições categóricas para conceitos causa e efeito\n",
        "posicao_conceito_causa = dataset[['Coluna CC', 'Linha CC']]\n",
        "lista_posicao_conceito = [tuple(x) for x in posicao_conceito_causa.to_numpy()]\n",
        "posicao_conceito_efeito = dataset[['Coluna CE', 'Linha CE']]\n",
        "lista_posicao_conceito_efeito = [tuple(x) for x in posicao_conceito_efeito.to_numpy()]\n",
        "\n",
        "# Transformando em coordenadas cartesianas\n",
        "lista_coordenadas_conceito_causa = [(rd.randint(dicionario_coluna_html[i[0]][0]+margem, dicionario_coluna_html[i[0]][1]-margem), \n",
        "                                            rd.randint(dicionario_linha_html[i[1]][0]+margem, dicionario_linha_html[i[1]][1]-margem)) for i in lista_posicao_conceito]\n",
        "x_conceito_causa = [i[0] for i in lista_coordenadas_conceito_causa]\n",
        "y_conceito_causa = [i[1] for i in lista_coordenadas_conceito_causa]\n",
        "\n",
        "\n",
        "lista_coordenadas_conceito_efeito = [(rd.randint(dicionario_coluna_html[i[0]][0]+margem, dicionario_coluna_html[i[0]][1]-margem), \n",
        "                                            rd.randint(dicionario_linha_html[i[1]][0]+margem, dicionario_linha_html[i[1]][1]-margem)) for i in lista_posicao_conceito_efeito]\n",
        "x_conceito_efeito = [i[0] for i in lista_coordenadas_conceito_efeito]\n",
        "y_conceito_efeito = [i[1] for i in lista_coordenadas_conceito_efeito]\n",
        "\n",
        "# Criando o novo dataset\n",
        "dataset_coordenadas['Coluna CC'] = x_conceito_causa\n",
        "dataset_coordenadas['Linha CC'] = y_conceito_causa\n",
        "dataset_coordenadas['Coluna CE'] = x_conceito_efeito\n",
        "dataset_coordenadas['Linha CE'] = y_conceito_efeito\n",
        "dataset_coordenadas"
      ],
      "execution_count": 142,
      "outputs": [
        {
          "output_type": "execute_result",
          "data": {
            "text/html": [
              "<div>\n",
              "<style scoped>\n",
              "    .dataframe tbody tr th:only-of-type {\n",
              "        vertical-align: middle;\n",
              "    }\n",
              "\n",
              "    .dataframe tbody tr th {\n",
              "        vertical-align: top;\n",
              "    }\n",
              "\n",
              "    .dataframe thead th {\n",
              "        text-align: right;\n",
              "    }\n",
              "</style>\n",
              "<table border=\"1\" class=\"dataframe\">\n",
              "  <thead>\n",
              "    <tr style=\"text-align: right;\">\n",
              "      <th></th>\n",
              "      <th>Nome</th>\n",
              "      <th>Conceito Causa</th>\n",
              "      <th>Conceito Efeito</th>\n",
              "      <th>Linha CC</th>\n",
              "      <th>Coluna CC</th>\n",
              "      <th>Linha CE</th>\n",
              "      <th>Coluna CE</th>\n",
              "      <th>Data</th>\n",
              "    </tr>\n",
              "  </thead>\n",
              "  <tbody>\n",
              "    <tr>\n",
              "      <th>0</th>\n",
              "      <td>Juan Costa Dos Santos</td>\n",
              "      <td>Deixar um legado para o próximo</td>\n",
              "      <td>o desejo de vencer</td>\n",
              "      <td>147</td>\n",
              "      <td>1238</td>\n",
              "      <td>67</td>\n",
              "      <td>1106</td>\n",
              "      <td></td>\n",
              "    </tr>\n",
              "    <tr>\n",
              "      <th>1</th>\n",
              "      <td>Juan Costa Dos Santos</td>\n",
              "      <td>Crescimento</td>\n",
              "      <td>Produtividade dos colaboradores</td>\n",
              "      <td>82</td>\n",
              "      <td>1233</td>\n",
              "      <td>89</td>\n",
              "      <td>937</td>\n",
              "      <td></td>\n",
              "    </tr>\n",
              "    <tr>\n",
              "      <th>2</th>\n",
              "      <td>Juan Costa Dos Santos</td>\n",
              "      <td>Inveja</td>\n",
              "      <td>Stress nas relações sociais</td>\n",
              "      <td>135</td>\n",
              "      <td>1047</td>\n",
              "      <td>65</td>\n",
              "      <td>1089</td>\n",
              "      <td></td>\n",
              "    </tr>\n",
              "    <tr>\n",
              "      <th>3</th>\n",
              "      <td>Juan Costa Dos Santos</td>\n",
              "      <td>Investimento no funcionario</td>\n",
              "      <td>Crescimento</td>\n",
              "      <td>164</td>\n",
              "      <td>1085</td>\n",
              "      <td>90</td>\n",
              "      <td>1111</td>\n",
              "      <td></td>\n",
              "    </tr>\n",
              "    <tr>\n",
              "      <th>4</th>\n",
              "      <td>Juan Costa Dos Santos</td>\n",
              "      <td>Tentar se beneficiar diminuindo o outro</td>\n",
              "      <td>Inveja</td>\n",
              "      <td>60</td>\n",
              "      <td>1065</td>\n",
              "      <td>176</td>\n",
              "      <td>869</td>\n",
              "      <td></td>\n",
              "    </tr>\n",
              "    <tr>\n",
              "      <th>...</th>\n",
              "      <td>...</td>\n",
              "      <td>...</td>\n",
              "      <td>...</td>\n",
              "      <td>...</td>\n",
              "      <td>...</td>\n",
              "      <td>...</td>\n",
              "      <td>...</td>\n",
              "      <td>...</td>\n",
              "    </tr>\n",
              "    <tr>\n",
              "      <th>405</th>\n",
              "      <td>Marcelli Roberta Sarti</td>\n",
              "      <td>SUCESSO</td>\n",
              "      <td>o desejo de vencer</td>\n",
              "      <td>116</td>\n",
              "      <td>1124</td>\n",
              "      <td>88</td>\n",
              "      <td>1100</td>\n",
              "      <td></td>\n",
              "    </tr>\n",
              "    <tr>\n",
              "      <th>406</th>\n",
              "      <td>Marcelli Roberta Sarti</td>\n",
              "      <td>DESORGANIZAÇÃO</td>\n",
              "      <td>Stress nas relações sociais</td>\n",
              "      <td>165</td>\n",
              "      <td>869</td>\n",
              "      <td>94</td>\n",
              "      <td>916</td>\n",
              "      <td></td>\n",
              "    </tr>\n",
              "    <tr>\n",
              "      <th>407</th>\n",
              "      <td>Marcelli Roberta Sarti</td>\n",
              "      <td>COMUNICAÇÃO</td>\n",
              "      <td>Produtividade dos colaboradores</td>\n",
              "      <td>133</td>\n",
              "      <td>869</td>\n",
              "      <td>171</td>\n",
              "      <td>900</td>\n",
              "      <td></td>\n",
              "    </tr>\n",
              "    <tr>\n",
              "      <th>408</th>\n",
              "      <td>Marcelli Roberta Sarti</td>\n",
              "      <td>ESFORÇO</td>\n",
              "      <td>SUCESSO</td>\n",
              "      <td>182</td>\n",
              "      <td>1062</td>\n",
              "      <td>156</td>\n",
              "      <td>860</td>\n",
              "      <td></td>\n",
              "    </tr>\n",
              "    <tr>\n",
              "      <th>409</th>\n",
              "      <td>Marcelli Roberta Sarti</td>\n",
              "      <td>EXCESSO DE INFORMAÇÃO</td>\n",
              "      <td>DESORGANIZAÇÃO</td>\n",
              "      <td>304</td>\n",
              "      <td>974</td>\n",
              "      <td>352</td>\n",
              "      <td>801</td>\n",
              "      <td></td>\n",
              "    </tr>\n",
              "  </tbody>\n",
              "</table>\n",
              "<p>410 rows × 8 columns</p>\n",
              "</div>"
            ],
            "text/plain": [
              "0                      Nome  ... Data\n",
              "0     Juan Costa Dos Santos  ...     \n",
              "1     Juan Costa Dos Santos  ...     \n",
              "2     Juan Costa Dos Santos  ...     \n",
              "3     Juan Costa Dos Santos  ...     \n",
              "4     Juan Costa Dos Santos  ...     \n",
              "..                      ...  ...  ...\n",
              "405  Marcelli Roberta Sarti  ...     \n",
              "406  Marcelli Roberta Sarti  ...     \n",
              "407  Marcelli Roberta Sarti  ...     \n",
              "408  Marcelli Roberta Sarti  ...     \n",
              "409  Marcelli Roberta Sarti  ...     \n",
              "\n",
              "[410 rows x 8 columns]"
            ]
          },
          "metadata": {
            "tags": []
          },
          "execution_count": 142
        }
      ]
    },
    {
      "cell_type": "code",
      "metadata": {
        "id": "lEXgSi1p5uSh"
      },
      "source": [
        "from gspread_dataframe import set_with_dataframe\n",
        "\n",
        "nome_planilha1 = '[Formulários] Base de Dados - Coordenadas'\n",
        "planilha1 = gc.open(nome_planilha1).sheet1\n",
        "set_with_dataframe(planilha1, dataset_coordenadas, include_index = False, include_column_header = True, resize = False)\n",
        "\n",
        "nome_planilha2 = '[Formulários] Base de Dados - Geral'\n",
        "planilha2 = gc.open(nome_planilha2).sheet1\n",
        "set_with_dataframe(planilha2, dataset_geral, include_index = False, include_column_header = True, resize = False)"
      ],
      "execution_count": 143,
      "outputs": []
    }
  ]
}