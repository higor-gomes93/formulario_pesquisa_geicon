{
  "nbformat": 4,
  "nbformat_minor": 0,
  "metadata": {
    "colab": {
      "name": "MCE_Estendido.ipynb",
      "provenance": [],
      "collapsed_sections": [],
      "include_colab_link": true
    },
    "kernelspec": {
      "name": "python3",
      "display_name": "Python 3"
    },
    "language_info": {
      "name": "python"
    }
  },
  "cells": [
    {
      "cell_type": "markdown",
      "metadata": {
        "id": "view-in-github",
        "colab_type": "text"
      },
      "source": [
        "<a href=\"https://colab.research.google.com/github/higor-gomes93/mce_pesquisa_geicon/blob/main/MCE_Estendido.ipynb\" target=\"_parent\"><img src=\"https://colab.research.google.com/assets/colab-badge.svg\" alt=\"Open In Colab\"/></a>"
      ]
    },
    {
      "cell_type": "markdown",
      "metadata": {
        "id": "xlwwNFwmN8-7"
      },
      "source": [
        "# Algoritmo de Geração de Mapas Conceituas Estendidos\n",
        "---\n",
        "Esse algoritmo tem por função a criação automática de Mapas Conceituas Estendidos, partindo de uma base de dados importada do Google Planilhas. Os dados foram obtidos por meio do formulário aplicado aos respondentes."
      ]
    },
    {
      "cell_type": "markdown",
      "metadata": {
        "id": "qwf-Q5HiOTuw"
      },
      "source": [
        "### 1) Importação das Bibliotecas\n",
        "Todos as bibliotecas e pacotes necessários para o desenvolvimento do algoritmo."
      ]
    },
    {
      "cell_type": "code",
      "metadata": {
        "id": "020jcdlEySfJ"
      },
      "source": [
        "# Importando as bibliotecas padrão\n",
        "import networkx as nx\n",
        "import pandas as pd\n",
        "import numpy as np\n",
        "import matplotlib.pyplot as plt\n",
        "import random as rd"
      ],
      "execution_count": 1,
      "outputs": []
    },
    {
      "cell_type": "code",
      "metadata": {
        "colab": {
          "base_uri": "https://localhost:8080/"
        },
        "id": "J9UV9MTwe1z6",
        "outputId": "619b531b-24a1-408d-940f-59dcc6c8f7ff"
      },
      "source": [
        "# Importando os pacotes necessários para conectar com o Google Drive e o Google Planilhas\n",
        "from google.colab import auth\n",
        "auth.authenticate_user()\n",
        "\n",
        "import gspread\n",
        "from oauth2client.client import GoogleCredentials\n",
        "\n",
        "from google.colab import drive\n",
        "drive.mount('/content/drive')"
      ],
      "execution_count": 2,
      "outputs": [
        {
          "output_type": "stream",
          "text": [
            "Mounted at /content/drive\n"
          ],
          "name": "stdout"
        }
      ]
    },
    {
      "cell_type": "markdown",
      "metadata": {
        "id": "lpOikumsOXLy"
      },
      "source": [
        "### 2) Geração da Base de Dados\n",
        "Os dados são importados diretamente do Google Planilhas e convertidos em um DataFrame."
      ]
    },
    {
      "cell_type": "code",
      "metadata": {
        "id": "1fRgF-n4v31q"
      },
      "source": [
        "# Importando os dados do Google Planilhas\n",
        "gc = gspread.authorize(GoogleCredentials.get_application_default())\n",
        "planilha_de_dados = gc.open('[Formulários] Base de Dados').sheet1\n",
        "rows = planilha_de_dados.get_all_values()"
      ],
      "execution_count": 3,
      "outputs": []
    },
    {
      "cell_type": "code",
      "metadata": {
        "id": "sEXnRXD8wQE4"
      },
      "source": [
        "# Criação do objeto do tipo DataFrame\n",
        "dataset = pd.DataFrame.from_records(rows)\n",
        "\n",
        "# Transformando a primeira linha em cabeçalho\n",
        "new_header = dataset.iloc[0]\n",
        "dataset = dataset[1:]\n",
        "dataset.columns = new_header\n",
        "\n",
        "# Resetando o index\n",
        "dataset = dataset.reset_index(drop = True)\n",
        "\n",
        "# Transformando os dados nulos\n",
        "dataset['Conceito Causa'].replace('', np.nan, inplace=True)\n",
        "dataset['Conceito Efeito'].replace('', np.nan, inplace=True)\n",
        "dataset['Linha CC'].replace('', np.nan, inplace=True)\n",
        "dataset['Coluna CC'].replace('', np.nan, inplace=True)\n",
        "dataset['Linha CE'].replace('', np.nan, inplace=True)\n",
        "dataset['Coluna CE'].replace('', np.nan, inplace=True)"
      ],
      "execution_count": 4,
      "outputs": []
    },
    {
      "cell_type": "markdown",
      "metadata": {
        "id": "Q31DfTPaOe5e"
      },
      "source": [
        "### 3) Tratamento dos Dados\n",
        "Filtrar dados faltantes ou fora do padrão esperado para análise."
      ]
    },
    {
      "cell_type": "code",
      "metadata": {
        "id": "rtIBXrdayNV5"
      },
      "source": [
        "# Contando o total de respostas por aluno\n",
        "valores_unicos = dataset.groupby(['Nome']).count()"
      ],
      "execution_count": 6,
      "outputs": []
    },
    {
      "cell_type": "code",
      "metadata": {
        "id": "4p8GhZwU0KRN"
      },
      "source": [
        "# Selecionando apenas os que tiveram 5 respostas em todas as colunas\n",
        "nomes_filtrados = valores_unicos.loc[(valores_unicos['Conceito Causa'] == 5) & \n",
        "                           (valores_unicos['Conceito Efeito'] == 5) &\n",
        "                           (valores_unicos['Linha CC'] == 5) &\n",
        "                           (valores_unicos['Coluna CC'] == 5) &\n",
        "                           (valores_unicos['Linha CE'] == 5) &\n",
        "                           (valores_unicos['Coluna CE'] == 5)]\n",
        "\n",
        "nomes = list(nomes_filtrados.index)"
      ],
      "execution_count": 7,
      "outputs": []
    },
    {
      "cell_type": "code",
      "metadata": {
        "id": "qmvjspdV1msW"
      },
      "source": [
        "# Filtrando o dataset\n",
        "dataset = dataset.loc[dataset['Nome'].isin(nomes)]\n",
        "dataset"
      ],
      "execution_count": null,
      "outputs": []
    },
    {
      "cell_type": "markdown",
      "metadata": {
        "id": "kWhyFGJYPIGF"
      },
      "source": [
        "### 4) Criação dos Dicionários\n",
        "Conversão dos atributos de linha e coluna em coordenadas cartesianas, a fim de usar o pano de fundo gerado previamente para o Mapa Conceitual Estendido."
      ]
    },
    {
      "cell_type": "code",
      "metadata": {
        "id": "SkrJx3YG6-p2"
      },
      "source": [
        "# Criando os dicionários de correspondências das coordenadas\n",
        "dicionario_linha = {\n",
        "    'Controlável': (1, 300),\n",
        "    'Penumbra': (300, 599),\n",
        "    'Não Controlável': (599, 899)\n",
        "}\n",
        "\n",
        "dicionario_coluna = {\n",
        "    'Não Controlável': (1, 600),\n",
        "    'Penumbra': (600, 1199),\n",
        "    'Controlável': (1199, 1799)\n",
        "}\n",
        "\n",
        "# Definindo uma margem\n",
        "margem = 20"
      ],
      "execution_count": 9,
      "outputs": []
    },
    {
      "cell_type": "markdown",
      "metadata": {
        "id": "iz9wBl4JuPzh"
      },
      "source": [
        "### 5) Imagem de Fundo\n",
        "Carregando o pano de fundo para a construção do Mapa Conceitual Estendido."
      ]
    },
    {
      "cell_type": "code",
      "metadata": {
        "colab": {
          "base_uri": "https://localhost:8080/",
          "height": 51
        },
        "id": "3ruwbbnIuVay",
        "outputId": "f567bf57-27d8-4fc7-d036-e760c617c8cb"
      },
      "source": [
        "fundo = plt.imread('/content/drive/Shareddrives/GEICon - Pessoas/Ferramentas/[Ferramentas] Formulário Tipos Psicológicos/[Ferramentas] Base de Dados/MCE.png')\n",
        "plt.figure(figsize=(19.354, 9.542))"
      ],
      "execution_count": 10,
      "outputs": [
        {
          "output_type": "execute_result",
          "data": {
            "text/plain": [
              "<Figure size 1393.49x687.024 with 0 Axes>"
            ]
          },
          "metadata": {
            "tags": []
          },
          "execution_count": 10
        },
        {
          "output_type": "display_data",
          "data": {
            "text/plain": [
              "<Figure size 1393.49x687.024 with 0 Axes>"
            ]
          },
          "metadata": {
            "tags": []
          }
        }
      ]
    },
    {
      "cell_type": "markdown",
      "metadata": {
        "id": "i0cKJaGrPU_p"
      },
      "source": [
        "### 6) Função de Geração dos Mapas Conceituais Estendidos\n",
        "Função principal do algoritmo, cujo objetivo é criar um mapa conceitual estendido para cada um dos respondentes, e armazená-los em um diretório pré-estabelecido do Google Drive."
      ]
    },
    {
      "cell_type": "code",
      "metadata": {
        "id": "5973Y9P69HtV"
      },
      "source": [
        "def criacao_mce(aluno):\n",
        "    # Filtrando o dataset\n",
        "    dataset_aluno = dataset.loc[dataset['Nome'] == aluno]\n",
        "    \n",
        "    # Separando conceito causa e conceito efeito\n",
        "    lista_conceito_causa_aluno = list(dataset_aluno['Conceito Causa'])\n",
        "    posicao_conceito_causa_aluno = dataset_aluno[['Coluna CC', 'Linha CC']]\n",
        "    lista_posicao_conceito_causa_aluno = [tuple(x) for x in posicao_conceito_causa_aluno.to_numpy()]\n",
        "    lista_conceito_efeito_aluno = list(dataset_aluno['Conceito Efeito'])\n",
        "    posicao_conceito_efeito_aluno = dataset_aluno[['Coluna CE', 'Linha CE']]\n",
        "    lista_posicao_conceito_efeito_aluno = [tuple(x) for x in posicao_conceito_efeito_aluno.to_numpy()]\n",
        "\n",
        "    # Criação das coordenadas\n",
        "    lista_coordenadas_conceito_causa_aluno = [(rd.randint(dicionario_coluna[i[0]][0]+margem, dicionario_coluna[i[0]][1]-margem), \n",
        "                                               rd.randint(dicionario_linha[i[0]][0]+margem, dicionario_linha[i[0]][1]-margem)) for i in lista_posicao_conceito_causa_aluno]\n",
        "    lista_coordenadas_conceito_efeito_aluno = [(rd.randint(dicionario_coluna[i[0]][0]+margem, dicionario_coluna[i[0]][1]-margem), \n",
        "                                               rd.randint(dicionario_linha[i[0]][0]+margem, dicionario_linha[i[0]][1]-margem)) for i in lista_posicao_conceito_efeito_aluno]\n",
        "    \n",
        "    # Criando os vértices e arestas do grafo\n",
        "    vertices_aluno = lista_conceito_causa_aluno\n",
        "    vertices_aluno.extend(lista_conceito_efeito_aluno)\n",
        "    arestas_aluno = [(lista_conceito_causa_aluno[i], lista_conceito_efeito_aluno[i]) for i in range(5)]\n",
        "    \n",
        "    # Criando o vetor de posições\n",
        "    posicoes_conceito_causa = {lista_conceito_causa_aluno[i]: lista_coordenadas_conceito_causa_aluno[i] for i in range(5)}\n",
        "    posicoes_conceito_efeito = {lista_conceito_efeito_aluno[i]: lista_coordenadas_conceito_efeito_aluno[i] for i in range(5)}\n",
        "    posicoes = posicoes_conceito_causa\n",
        "    posicoes.update(posicoes_conceito_efeito)\n",
        "\n",
        "    # Inicializando um grafo direcionado\n",
        "    grafo = nx.DiGraph()\n",
        "\n",
        "    # Adicionando os vértices e arestas\n",
        "    grafo.add_nodes_from(vertices_aluno)\n",
        "    grafo.add_edges_from(arestas_aluno)\n",
        "\n",
        "    # Gerando o grafo\n",
        "    plt.figure(figsize=(19.354, 9.542))\n",
        "    plot = nx.draw_networkx_nodes(grafo, posicoes, node_shape='o')\n",
        "    plot = nx.draw_networkx_edges(grafo, posicoes, edgelist = arestas_aluno)\n",
        "    lot = nx.draw_networkx_labels(grafo, posicoes, horizontalalignment='right', verticalalignment='top')\n",
        "    plt.imshow(fundo, aspect='auto')\n",
        "    plt.savefig('/content/drive/Shareddrives/GEICon - Pessoas/Ferramentas/[Ferramentas] Formulário Tipos Psicológicos/[Ferramentas] Base de Dados/[Ferramentas] Mapas Conceituais/'+aluno+'.png')\n",
        "    plt.close(fig=None)\n",
        "\n",
        "    return"
      ],
      "execution_count": 11,
      "outputs": []
    },
    {
      "cell_type": "markdown",
      "metadata": {
        "id": "MDdFbtVBPkx6"
      },
      "source": [
        "### 7) Chamada da Função\n",
        "Aplicar a função de criação dos Mapas Conceituais Estendidos para toda a lista dos respondentes."
      ]
    },
    {
      "cell_type": "code",
      "metadata": {
        "id": "8DKR3B3tFSut"
      },
      "source": [
        "for i in nomes:\n",
        "    criacao_mce(i)"
      ],
      "execution_count": 12,
      "outputs": []
    }
  ]
}